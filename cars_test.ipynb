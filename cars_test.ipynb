{
 "cells": [
  {
   "cell_type": "code",
   "execution_count": 2,
   "metadata": {},
   "outputs": [],
   "source": [
    "import grequests"
   ]
  },
  {
   "cell_type": "code",
   "execution_count": 12,
   "metadata": {},
   "outputs": [],
   "source": [
    "import requests\n",
    "import urllib.parse"
   ]
  },
  {
   "cell_type": "code",
   "execution_count": 4,
   "metadata": {},
   "outputs": [],
   "source": [
    "from bs4 import BeautifulSoup\n",
    "import pandas as pd"
   ]
  },
  {
   "cell_type": "code",
   "execution_count": 5,
   "metadata": {},
   "outputs": [],
   "source": [
    "import os, re\n",
    "from time import sleep, time"
   ]
  },
  {
   "cell_type": "code",
   "execution_count": null,
   "metadata": {},
   "outputs": [],
   "source": []
  },
  {
   "cell_type": "markdown",
   "metadata": {},
   "source": [
    "### Get all vehicle details links"
   ]
  },
  {
   "cell_type": "markdown",
   "metadata": {},
   "source": [
    "all_links = []\n",
    "\n",
    "def get_links(soup):\n",
    "    tags = soup.findAll('a',attrs={'class':'shop-srp-listings__listing'})\n",
    "    return ['https://www.cars.com' + x['href'] for x in tags]\n",
    "    \n",
    "    \n",
    "for i in range(0, 52):\n",
    "    print(i)\n",
    "    url = f'https://www.cars.com/for-sale/searchresults.action/?page={i}&perPage=100&rd=75&searchSource=GN_REFINEMENT&shippable-dealers-checkbox=true&showMore=false&sort=relevance&zc=10019&localVehicles=false'  \n",
    "    r = requests.get(url)\n",
    "    soup = BeautifulSoup(r.content)\n",
    "    links = get_links(soup)\n",
    "    \n",
    "    for l in links:\n",
    "        all_links.append(l)\n",
    "\n"
   ]
  },
  {
   "cell_type": "markdown",
   "metadata": {},
   "source": [
    "with open('links_py2.txt', 'w') as f:\n",
    "    for x in all_links:\n",
    "        f.write('%s\\n' %x)"
   ]
  },
  {
   "cell_type": "code",
   "execution_count": null,
   "metadata": {},
   "outputs": [],
   "source": []
  },
  {
   "cell_type": "code",
   "execution_count": null,
   "metadata": {},
   "outputs": [],
   "source": []
  },
  {
   "cell_type": "code",
   "execution_count": 9,
   "metadata": {},
   "outputs": [],
   "source": [
    "# lst = ['https://www.cars.com/vehicledetail/detail/764209894/overview/',\n",
    "#        'https://www.cars.com/vehicledetail/detail/765560013/overview/',\n",
    "#        'https://www.cars.com/vehicledetail/detail/761675529/overview/',\n",
    "#       'https://www.cars.com/vehicledetail/detail/759093860/overview/',\n",
    "#       'https://www.cars.com/vehicledetail/detail/759217275/overview/',\n",
    "#       'https://www.cars.com/vehicledetail/detail/759684992/overview/',\n",
    "#       'https://www.cars.com/vehicledetail/detail/764048732/overview/',\n",
    "#       'https://www.cars.com/vehicledetail/detail/761718085/overview/',\n",
    "#       'https://www.cars.com/vehicledetail/detail/764655488/overview/',\n",
    "#       'https://www.cars.com/vehicledetail/detail/760249404/overview/',\n",
    "#       'https://www.cars.com/vehicledetail/detail/760249342/overview/',\n",
    "#       ]\n",
    "\n",
    "df = pd.read_csv('links_py.txt', header=None)\n",
    "lst = df[0].tolist()\n",
    "lst = lst[:50]\n",
    "\n",
    "class Test():\n",
    "    def __init__(self, sublst, size):\n",
    "        self.urls = sublst\n",
    "        self.size = size\n",
    "\n",
    "    def exception(self, request, exception):\n",
    "        print (\"Problem: {}: {}\".format(request.url, exception))\n",
    "\n",
    "    def async_req(self):\n",
    "        return grequests.map((grequests.get(u) for u in self.urls), \n",
    "                             exception_handler=self.exception, size= self.size)\n",
    "\n",
    "    def collate_responses(self, results):\n",
    "        return [x.text for x in results]\n",
    "\n"
   ]
  },
  {
   "cell_type": "code",
   "execution_count": null,
   "metadata": {},
   "outputs": [],
   "source": []
  },
  {
   "cell_type": "code",
   "execution_count": 52,
   "metadata": {},
   "outputs": [
    {
     "name": "stdout",
     "output_type": "stream",
     "text": [
      "[<Response [200]>, <Response [200]>, <Response [200]>, <Response [200]>, <Response [200]>, <Response [200]>, <Response [200]>, <Response [200]>, <Response [200]>, <Response [200]>]\n",
      "[<Response [200]>, <Response [200]>, <Response [200]>, <Response [200]>, <Response [200]>, <Response [200]>, <Response [200]>, <Response [200]>, <Response [200]>, <Response [200]>]\n",
      "[<Response [200]>, <Response [200]>, <Response [200]>, <Response [200]>, <Response [200]>, <Response [200]>, <Response [200]>, <Response [200]>, <Response [200]>, <Response [200]>]\n",
      "[<Response [200]>, <Response [200]>, <Response [200]>, <Response [200]>, <Response [200]>, <Response [200]>, <Response [200]>, <Response [200]>, <Response [200]>, <Response [200]>]\n",
      "[<Response [200]>, <Response [200]>, <Response [200]>, <Response [200]>, <Response [200]>, <Response [200]>, <Response [200]>, <Response [200]>, <Response [200]>, <Response [200]>]\n",
      "[]\n",
      "\n",
      " 149.7047896385193\n"
     ]
    }
   ],
   "source": [
    "\n",
    "step = 10\n",
    "all_r, failed = [], []\n",
    "\n",
    "def write_html(html, n, url):\n",
    "    st = url.find('/detail/')\n",
    "    end = url.find('/overview/')\n",
    "    _id = url[st+len('/detail/'):end]\n",
    "    \n",
    "    with open(f'/home/jeferson/personal_projects/scraping_cars/results/ny/{n}-{_id}', 'wb') as f:\n",
    "        f.write(html)\n",
    "    \n",
    "n = 0\n",
    "for i in range(step-1, len(lst)+step , step):\n",
    "    st = time()\n",
    "    test_inst = Test(lst[i-step+1:i+1], step)\n",
    "    \n",
    "    res = test_inst.async_req()\n",
    "    print(res)\n",
    "    for _res in res:\n",
    "        if _res.status_code != 200:\n",
    "            failed.append(_res.url)\n",
    "        else:\n",
    "            write_html(_res.content, n, _res.url)\n",
    "    n += 1\n",
    "    print(time()-st,'\\n')\n",
    "    \n",
    "#     print(lst[i-step+1:i+1])\n",
    "\n"
   ]
  },
  {
   "cell_type": "code",
   "execution_count": null,
   "metadata": {},
   "outputs": [],
   "source": []
  },
  {
   "cell_type": "code",
   "execution_count": null,
   "metadata": {},
   "outputs": [],
   "source": []
  },
  {
   "cell_type": "code",
   "execution_count": null,
   "metadata": {},
   "outputs": [],
   "source": []
  }
 ],
 "metadata": {
  "kernelspec": {
   "display_name": "Python 3",
   "language": "python",
   "name": "python3"
  },
  "language_info": {
   "codemirror_mode": {
    "name": "ipython",
    "version": 3
   },
   "file_extension": ".py",
   "mimetype": "text/x-python",
   "name": "python",
   "nbconvert_exporter": "python",
   "pygments_lexer": "ipython3",
   "version": "3.6.5"
  }
 },
 "nbformat": 4,
 "nbformat_minor": 2
}
