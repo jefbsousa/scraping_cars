{
 "cells": [
  {
   "cell_type": "code",
   "execution_count": 1,
   "metadata": {},
   "outputs": [],
   "source": [
    "import grequests"
   ]
  },
  {
   "cell_type": "code",
   "execution_count": 2,
   "metadata": {},
   "outputs": [],
   "source": [
    "import requests\n",
    "import urllib.parse"
   ]
  },
  {
   "cell_type": "code",
   "execution_count": 3,
   "metadata": {},
   "outputs": [],
   "source": [
    "from bs4 import BeautifulSoup\n",
    "import pandas as pd"
   ]
  },
  {
   "cell_type": "code",
   "execution_count": 4,
   "metadata": {},
   "outputs": [],
   "source": [
    "import os, re\n",
    "from time import sleep, time"
   ]
  },
  {
   "cell_type": "code",
   "execution_count": null,
   "metadata": {},
   "outputs": [],
   "source": []
  },
  {
   "cell_type": "markdown",
   "metadata": {},
   "source": [
    "### Get all vehicle details links"
   ]
  },
  {
   "cell_type": "code",
   "execution_count": 5,
   "metadata": {
    "scrolled": true
   },
   "outputs": [
    {
     "name": "stdout",
     "output_type": "stream",
     "text": [
      "0\n",
      "1\n",
      "2\n",
      "3\n",
      "4\n",
      "5\n",
      "6\n",
      "7\n",
      "8\n",
      "9\n",
      "10\n",
      "11\n",
      "12\n",
      "13\n",
      "14\n",
      "15\n",
      "16\n",
      "17\n",
      "18\n",
      "19\n",
      "20\n",
      "21\n",
      "22\n",
      "23\n",
      "24\n",
      "25\n",
      "26\n",
      "27\n",
      "28\n",
      "29\n",
      "30\n",
      "31\n",
      "32\n",
      "33\n",
      "34\n",
      "35\n",
      "36\n",
      "37\n",
      "38\n",
      "39\n",
      "40\n",
      "41\n",
      "42\n",
      "43\n",
      "44\n",
      "45\n",
      "46\n",
      "47\n",
      "48\n",
      "49\n",
      "50\n",
      "51\n"
     ]
    }
   ],
   "source": [
    "all_links = []\n",
    "\n",
    "def get_links(soup):\n",
    "    tags = soup.findAll('a',attrs={'class':'shop-srp-listings__listing'})\n",
    "    return ['https://www.cars.com' + x['href'] for x in tags]\n",
    "    \n",
    "    \n",
    "for i in range(0, 52):\n",
    "    print(i)\n",
    "    url = f'https://www.cars.com/for-sale/searchresults.action/?page={i}&perPage=100&rd=75&searchSource=GN_REFINEMENT&shippable-dealers-checkbox=true&showMore=false&sort=relevance&zc=35203&localVehicles=false'  \n",
    "    r = requests.get(url)\n",
    "    soup = BeautifulSoup(r.content)\n",
    "    links = get_links(soup)\n",
    "    \n",
    "    for l in links:\n",
    "        all_links.append(l)\n",
    "\n"
   ]
  },
  {
   "cell_type": "code",
   "execution_count": 6,
   "metadata": {},
   "outputs": [
    {
     "name": "stdout",
     "output_type": "stream",
     "text": [
      "5200 4945\n"
     ]
    }
   ],
   "source": [
    "print(len(all_links) , len(set(all_links)))"
   ]
  },
  {
   "cell_type": "code",
   "execution_count": 7,
   "metadata": {},
   "outputs": [],
   "source": [
    "with open('links_alabama.txt', 'w') as f:\n",
    "    for x in list(set(all_links)):\n",
    "        f.write('%s\\n' %x)"
   ]
  },
  {
   "cell_type": "code",
   "execution_count": null,
   "metadata": {},
   "outputs": [],
   "source": []
  },
  {
   "cell_type": "code",
   "execution_count": null,
   "metadata": {},
   "outputs": [],
   "source": []
  },
  {
   "cell_type": "markdown",
   "metadata": {},
   "source": [
    "### Class uses grequests to parallelize requests to cars.com"
   ]
  },
  {
   "cell_type": "code",
   "execution_count": null,
   "metadata": {},
   "outputs": [],
   "source": [
    "# lst = ['https://www.cars.com/vehicledetail/detail/764209894/overview/',\n",
    "#        'https://www.cars.com/vehicledetail/detail/765560013/overview/',\n",
    "#        'https://www.cars.com/vehicledetail/detail/761675529/overview/',\n",
    "#       'https://www.cars.com/vehicledetail/detail/759093860/overview/',\n",
    "#       'https://www.cars.com/vehicledetail/detail/759217275/overview/',\n",
    "#       'https://www.cars.com/vehicledetail/detail/759684992/overview/',\n",
    "#       'https://www.cars.com/vehicledetail/detail/764048732/overview/',\n",
    "#       'https://www.cars.com/vehicledetail/detail/761718085/overview/',\n",
    "#       'https://www.cars.com/vehicledetail/detail/764655488/overview/',\n",
    "#       'https://www.cars.com/vehicledetail/detail/760249404/overview/',\n",
    "#       'https://www.cars.com/vehicledetail/detail/760249342/overview/',\n",
    "#       ]\n",
    "\n",
    "df = pd.read_csv('links_py.txt', header=None)\n",
    "lst = df[0].tolist()\n",
    "lst = lst[:50]\n",
    "\n",
    "class Test():\n",
    "    def __init__(self, sublst, size):\n",
    "        self.urls = sublst\n",
    "        self.size = size\n",
    "\n",
    "    def exception(self, request, exception):\n",
    "        print (\"Problem: {}: {}\".format(request.url, exception))\n",
    "\n",
    "    def async_req(self):\n",
    "        return grequests.map((grequests.get(u) for u in self.urls), \n",
    "                             exception_handler=self.exception, size= self.size)\n",
    "\n",
    "    def collate_responses(self, results):\n",
    "        return [x.text for x in results]\n",
    "\n"
   ]
  },
  {
   "cell_type": "markdown",
   "metadata": {},
   "source": [
    "#### Saves the raw html after a sucessful request"
   ]
  },
  {
   "cell_type": "code",
   "execution_count": 8,
   "metadata": {
    "collapsed": true
   },
   "outputs": [
    {
     "ename": "NameError",
     "evalue": "name 'lst' is not defined",
     "output_type": "error",
     "traceback": [
      "\u001b[0;31m---------------------------------------------------------------------------\u001b[0m",
      "\u001b[0;31mNameError\u001b[0m                                 Traceback (most recent call last)",
      "\u001b[0;32m<ipython-input-8-a06d3ee4ad22>\u001b[0m in \u001b[0;36m<module>\u001b[0;34m\u001b[0m\n\u001b[1;32m     12\u001b[0m \u001b[0;34m\u001b[0m\u001b[0m\n\u001b[1;32m     13\u001b[0m \u001b[0mn\u001b[0m \u001b[0;34m=\u001b[0m \u001b[0;36m0\u001b[0m\u001b[0;34m\u001b[0m\u001b[0m\n\u001b[0;32m---> 14\u001b[0;31m \u001b[0;32mfor\u001b[0m \u001b[0mi\u001b[0m \u001b[0;32min\u001b[0m \u001b[0mrange\u001b[0m\u001b[0;34m(\u001b[0m\u001b[0mstep\u001b[0m\u001b[0;34m-\u001b[0m\u001b[0;36m1\u001b[0m\u001b[0;34m,\u001b[0m \u001b[0mlen\u001b[0m\u001b[0;34m(\u001b[0m\u001b[0mlst\u001b[0m\u001b[0;34m)\u001b[0m\u001b[0;34m+\u001b[0m\u001b[0mstep\u001b[0m \u001b[0;34m,\u001b[0m \u001b[0mstep\u001b[0m\u001b[0;34m)\u001b[0m\u001b[0;34m:\u001b[0m\u001b[0;34m\u001b[0m\u001b[0m\n\u001b[0m\u001b[1;32m     15\u001b[0m     \u001b[0mst\u001b[0m \u001b[0;34m=\u001b[0m \u001b[0mtime\u001b[0m\u001b[0;34m(\u001b[0m\u001b[0;34m)\u001b[0m\u001b[0;34m\u001b[0m\u001b[0m\n\u001b[1;32m     16\u001b[0m     \u001b[0mtest_inst\u001b[0m \u001b[0;34m=\u001b[0m \u001b[0mTest\u001b[0m\u001b[0;34m(\u001b[0m\u001b[0mlst\u001b[0m\u001b[0;34m[\u001b[0m\u001b[0mi\u001b[0m\u001b[0;34m-\u001b[0m\u001b[0mstep\u001b[0m\u001b[0;34m+\u001b[0m\u001b[0;36m1\u001b[0m\u001b[0;34m:\u001b[0m\u001b[0mi\u001b[0m\u001b[0;34m+\u001b[0m\u001b[0;36m1\u001b[0m\u001b[0;34m]\u001b[0m\u001b[0;34m,\u001b[0m \u001b[0mstep\u001b[0m\u001b[0;34m)\u001b[0m\u001b[0;34m\u001b[0m\u001b[0m\n",
      "\u001b[0;31mNameError\u001b[0m: name 'lst' is not defined"
     ]
    }
   ],
   "source": [
    "\n",
    "step = 10\n",
    "all_r, failed = [], []\n",
    "\n",
    "def write_html(html, n, url):\n",
    "    st = url.find('/detail/')\n",
    "    end = url.find('/overview/')\n",
    "    _id = url[st+len('/detail/'):end]\n",
    "    \n",
    "    with open(f'/home/jeferson/personal_projects/scraping_cars/results/ny/{n}-{_id}', 'wb') as f:\n",
    "        f.write(html)\n",
    "    \n",
    "n = 0\n",
    "for i in range(step-1, len(lst)+step , step):\n",
    "    st = time()\n",
    "    test_inst = Test(lst[i-step+1:i+1], step)\n",
    "    \n",
    "    res = test_inst.async_req()\n",
    "    print(res)\n",
    "    for _res in res:\n",
    "        if _res.status_code != 200:\n",
    "            failed.append(_res.url)\n",
    "        else:\n",
    "            write_html(_res.content, n, _res.url)\n",
    "    n += 1\n",
    "    print(time()-st,'\\n')\n",
    "    \n",
    "#     print(lst[i-step+1:i+1])\n",
    "\n"
   ]
  },
  {
   "cell_type": "code",
   "execution_count": null,
   "metadata": {},
   "outputs": [],
   "source": []
  },
  {
   "cell_type": "code",
   "execution_count": null,
   "metadata": {},
   "outputs": [],
   "source": []
  },
  {
   "cell_type": "code",
   "execution_count": null,
   "metadata": {},
   "outputs": [],
   "source": []
  }
 ],
 "metadata": {
  "kernelspec": {
   "display_name": "Python 3",
   "language": "python",
   "name": "python3"
  },
  "language_info": {
   "codemirror_mode": {
    "name": "ipython",
    "version": 3
   },
   "file_extension": ".py",
   "mimetype": "text/x-python",
   "name": "python",
   "nbconvert_exporter": "python",
   "pygments_lexer": "ipython3",
   "version": "3.6.5"
  }
 },
 "nbformat": 4,
 "nbformat_minor": 2
}
